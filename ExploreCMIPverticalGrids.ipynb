{
 "cells": [
  {
   "cell_type": "code",
   "execution_count": 1,
   "metadata": {},
   "outputs": [],
   "source": [
    "import numpy as np\n",
    "import pandas as pd\n",
    "import geopandas as gpd\n",
    "from shapely.geometry import Point\n",
    "import xarray as xr\n",
    "import matplotlib.pyplot as plt\n",
    "import cartopy.crs as ccrs"
   ]
  },
  {
   "cell_type": "code",
   "execution_count": 2,
   "metadata": {},
   "outputs": [],
   "source": [
    "%matplotlib inline\n",
    "plt.rcParams['figure.figsize'] = [10, 5]"
   ]
  },
  {
   "cell_type": "code",
   "execution_count": 3,
   "metadata": {},
   "outputs": [],
   "source": [
    "# Import state vector file using geopandas\n",
    "states_url = 'http://eric.clst.org/assets/wiki/uploads/Stuff/gz_2010_us_040_00_5m.json'\n",
    "states_gdf = gpd.read_file(states_url)"
   ]
  },
  {
   "cell_type": "markdown",
   "metadata": {},
   "source": [
    "## Choose lat/lon Boundaries"
   ]
  },
  {
   "cell_type": "code",
   "execution_count": 4,
   "metadata": {},
   "outputs": [],
   "source": [
    "# Subset Parameters\n",
    "# Slice/Subset data down further based on latitutde (-90 -- +90), longitude (0 -- 360)\n",
    "lat_bnds, lon_bnds = [23, 57], [230, 265]\n",
    "\n",
    "baseDir='/glade/scratch/currierw/ACCESS1-0/historical/'"
   ]
  },
  {
   "cell_type": "markdown",
   "metadata": {},
   "source": [
    "## Load data and subset it to western US"
   ]
  },
  {
   "cell_type": "code",
   "execution_count": 5,
   "metadata": {},
   "outputs": [],
   "source": [
    "#### Choose lat and lon\n",
    "lat_bnds, lon_bnds  = [23, 57],                      [230, 265]                      # Slicing for Temperature, HUS, Ps etc. (Theta Values)\n",
    "lat_bndsV,lon_bndsV = [lat_bnds[0]-1,lat_bnds[1]+1], [lon_bnds[0], lon_bnds[1]]      # Slciing for V winds (north-south) add 1 degree buffer to south and north\n",
    "lat_bndsU,lon_bndsU = [lat_bnds[0],lat_bnds[1]],     [lon_bnds[0]-1, lon_bnds[1]+1]  # Slicing for U winds (east-west) add 1 degree buffer to west and east\n",
    "\n",
    "#### Data\n",
    "\n",
    "# Choose U, V, Ta, Hus files from the same time-period\n",
    "fNameVa  = baseDir+'va_6hrLev_ACCESS1-0_historical_r1i1p1_1980010106-1981010100.nc'\n",
    "fNameUa  = baseDir+'ua_6hrLev_ACCESS1-0_historical_r1i1p1_1980010106-1981010100.nc'\n",
    "fNameTa  = baseDir+'ta_6hrLev_ACCESS1-0_historical_r1i1p1_1980010106-1981010100.nc'\n",
    "\n",
    "# open the datasets (ds) with xarray\n",
    "vads  = xr.open_dataset(fNameVa)\n",
    "uads  = xr.open_dataset(fNameUa) \n",
    "tads  = xr.open_dataset(fNameTa) \n",
    "\n",
    "# Slice/Subset 4D data\n",
    "vads_sub  = vads.sel(lat=slice(*lat_bndsV), lon=slice(*lon_bndsV))  # subset the Va data spatially\n",
    "uads_sub  = uads.sel(lat=slice(*lat_bndsU), lon=slice(*lon_bndsU))  # subset the Ua data spatially\n",
    "tads_sub  = tads.sel(lat=slice(*lat_bnds),  lon=slice(*lon_bnds))  # subset the ta data spatially"
   ]
  },
  {
   "cell_type": "markdown",
   "metadata": {},
   "source": [
    "## Interpolate U,V Data to the Temperature Grid"
   ]
  },
  {
   "cell_type": "code",
   "execution_count": 6,
   "metadata": {},
   "outputs": [
    {
     "name": "stdout",
     "output_type": "stream",
     "text": [
      "\n",
      "Interpolating Data\n"
     ]
    }
   ],
   "source": [
    "# Interpolate data from staggered grid to temperature grid\n",
    "print(\"\\nInterpolating Data\")\n",
    "uads_subI = uads_sub.interp(lat=tads_sub['lat'], lon=tads_sub['lon'])\n",
    "vads_subI = vads_sub.interp(lat=tads_sub['lat'], lon=tads_sub['lon'])"
   ]
  },
  {
   "cell_type": "markdown",
   "metadata": {},
   "source": [
    "## Explore U/V Vertical Grid"
   ]
  },
  {
   "cell_type": "code",
   "execution_count": 11,
   "metadata": {},
   "outputs": [
    {
     "name": "stdout",
     "output_type": "stream",
     "text": [
      "U Data\n",
      "\n",
      "Lower Level Z height\n",
      "210.82827006918373\n",
      "\n",
      "Upper Level Z height\n",
      "36081.76171875\n",
      "\n",
      "Lower Level: Boundary\n",
      "[ 0.         49.99888229]\n",
      "\n",
      "Upper Level: Boundary\n",
      "[36081.76171875 42427.90234375]\n",
      "\n",
      "Lower Level: lev\n",
      "9.99820613861084\n",
      "\n",
      "Upper Level: lev\n",
      "36081.76171875\n",
      "\n",
      "Lower Level: b\n",
      "0.99771649\n",
      "\n",
      "Upper Level: b\n",
      "0.0\n"
     ]
    }
   ],
   "source": [
    "print(\"U Data\\n\")\n",
    "print(\"Lower Level Z height\")\n",
    "print((uads_subI['lev'][0] + uads_subI['b'][0]*uads_subI['orog'][-1,-1]).values)\n",
    "print(\"\\nUpper Level Z height\")\n",
    "print((uads_subI['lev'][-1] + uads_subI['b'][-1]*uads_subI['orog'][-1,-1]).values)\n",
    "print(\"\\nLower Level: Boundary\")\n",
    "print(uads_subI['lev_bnds'][0].values)\n",
    "print(\"\\nUpper Level: Boundary\")\n",
    "print(uads_subI['lev_bnds'][-1].values)\n",
    "print(\"\\nLower Level: lev\")\n",
    "print(uads_subI['lev'][0].values)\n",
    "print(\"\\nUpper Level: lev\")\n",
    "print(uads_subI['lev'][-1].values)\n",
    "print(\"\\nLower Level: b\")\n",
    "print(uads_subI['b'][0].values)\n",
    "print(\"\\nUpper Level: b\")\n",
    "print(uads_subI['b'][-1].values)"
   ]
  },
  {
   "cell_type": "markdown",
   "metadata": {},
   "source": [
    "## Explore Temperature Vertical Grid"
   ]
  },
  {
   "cell_type": "code",
   "execution_count": 8,
   "metadata": {},
   "outputs": [
    {
     "name": "stdout",
     "output_type": "stream",
     "text": [
      "\n",
      "Lower Level Z height\n",
      "190.81172690757506\n",
      "\n",
      "Upper Level Z height\n",
      "39254.83203125\n",
      "\n",
      "Lower Level: Boundary\n",
      "[ 0.         49.99888229]\n",
      "\n",
      "Upper Level: Boundary\n",
      "[36081.76171875 42427.90234375]\n",
      "\n",
      "Lower Level: lev\n",
      "20.000337600708008\n",
      "\n",
      "Upper Level: lev\n",
      "39254.83203125\n",
      "\n",
      "Lower Level: b\n",
      "0.99771649\n",
      "\n",
      "Upper Level: b\n",
      "0.0\n"
     ]
    }
   ],
   "source": [
    "print(\"\\nLower Level Z height\")\n",
    "print((tads_sub['lev'][0] + tads_sub['b'][0]*tads_sub['orog'][-1,-1]).values)\n",
    "print(\"\\nUpper Level Z height\")\n",
    "print((tads_sub['lev'][-1] + tads_sub['b'][-1]*tads_sub['orog'][-1,-1]).values)\n",
    "print(\"\\nLower Level: Boundary\")\n",
    "print(tads_sub['lev_bnds'][0].values)\n",
    "print(\"\\nUpper Level: Boundary\")\n",
    "print(tads_sub['lev_bnds'][-1].values)\n",
    "print(\"\\nLower Level: lev\")\n",
    "print(tads_sub['lev'][0].values)\n",
    "print(\"\\nUpper Level: lev\")\n",
    "print(tads_sub['lev'][-1].values)\n",
    "print(\"\\nLower Level: b\")\n",
    "print(tads_sub['b'][0].values)\n",
    "print(\"\\nUpper Level: b\")\n",
    "print(tads_sub['b'][-1].values)"
   ]
  },
  {
   "cell_type": "markdown",
   "metadata": {},
   "source": [
    "## What are the elevation values"
   ]
  },
  {
   "cell_type": "code",
   "execution_count": 9,
   "metadata": {},
   "outputs": [
    {
     "name": "stdout",
     "output_type": "stream",
     "text": [
      "1865.7295\n",
      "1705.5343017578125\n",
      "1545.3391\n"
     ]
    },
    {
     "data": {
      "text/plain": [
       "<matplotlib.collections.QuadMesh at 0x2b674d88b4e0>"
      ]
     },
     "execution_count": 9,
     "metadata": {},
     "output_type": "execute_result"
    },
    {
     "data": {
      "image/png": "[encoded data removed]",
      "text/plain": [
       "<Figure size 720x288 with 6 Axes>"
      ]
     },
     "metadata": {
      "needs_background": "light"
     },
     "output_type": "display_data"
    }
   ],
   "source": [
    "print(tads_sub['orog'][10,10].values)\n",
    "print(uads_subI['orog'][10,10].values)\n",
    "print(uads_sub['orog'][10,10].values)\n",
    "\n",
    "fig, axes = plt.subplots(ncols=3, figsize=(10, 4))\n",
    "tads_sub['orog'].plot(ax=axes[0])\n",
    "uads_sub['orog'].plot(ax=axes[1])\n",
    "uads_subI['orog'].plot(ax=axes[2])"
   ]
  }
 ],
 "metadata": {
  "kernelspec": {
   "display_name": "py3",
   "language": "python",
   "name": "py3"
  },
  "language_info": {
   "codemirror_mode": {
    "name": "ipython",
    "version": 3
   },
   "file_extension": ".py",
   "mimetype": "text/x-python",
   "name": "python",
   "nbconvert_exporter": "python",
   "pygments_lexer": "ipython3",
   "version": "3.6.7"
  }
 },
 "nbformat": 4,
 "nbformat_minor": 4
}
